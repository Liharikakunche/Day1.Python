#using oop's concept here cretaing stationery object 
class Stationery:
    def __init__(self, items_name, color, price):
        self.items_name = items_name
        self.color = color
        self.price = price

earaser = Stationery("earaser", "blue", 5)
print(earaser.items_name)
print(earaser.color)
print(earaser.price)

notebook = Stationery("Spiral Notebook", "green", 50)
print(notebook.items_name)
print(notebook.color)
print(notebook.price)

#creating Cosmetics Object
class Cosmetic:
    def __init__(self, brand, color, price):
        self.brand = brand
        self.color = color
        self.price = price
lipstick = Cosmetic("Maybelline", "red", 500)
print(lipstick.brand)
print(lipstick.color)
print(lipstick.price)

foundation = Cosmetic("L'Oreal", "beige", 1200)
print(foundation.brand)
print(foundation.color)
print(foundation.price)

#creating phone objects
class Phone:
   def __init__(self,ram,color,price):
     self.ram=ram
     self.color=color
     self.price=price


     #1.Creating a Class
     vivo=Phone(6,"red",15000)
     print(vivo.ram)
     print(vivo.color)
     print(vivo.price)

     moto=Phone(8,"blue",20000)
     print(moto.ram)
     print(moto.color)
     print(moto.price)
