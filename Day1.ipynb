## Creating Stationery class
class Stationery:
    def __init__(self, items_name, color, price):
        self.items_name = items_name
        self.color = color
        self.price = price

eraser = Stationery("Eraser", "blue", 5)
print(eraser.items_name)
print(eraser.color)
print(eraser.price)

notebook = Stationery("Spiral Notebook", "green", 50)
print(notebook.items_name)
print(notebook.color)
print(notebook.price)

# Creating Cosmetic class
class Cosmetic:
    def __init__(self, brand, color, price):
        self.brand = brand
        self.color = color
        self.price = price

lipstick = Cosmetic("Maybelline", "red", 500)
print(lipstick.brand)
print(lipstick.color)
print(lipstick.price)

founda
